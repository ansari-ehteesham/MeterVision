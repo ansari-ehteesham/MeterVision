{
 "cells": [
  {
   "cell_type": "code",
   "execution_count": 1,
   "id": "23bd32e6",
   "metadata": {},
   "outputs": [],
   "source": [
    "import os\n",
    "from yaml import load\n",
    "from metervision.constant import *\n",
    "\n",
    "os.chdir(\"../\")"
   ]
  },
  {
   "cell_type": "code",
   "execution_count": 2,
   "id": "77792830",
   "metadata": {},
   "outputs": [
    {
     "data": {
      "text/plain": [
       "'d:\\\\Advanced Project\\\\MeterVision'"
      ]
     },
     "execution_count": 2,
     "metadata": {},
     "output_type": "execute_result"
    }
   ],
   "source": [
    "os.getcwd()"
   ]
  },
  {
   "cell_type": "code",
   "execution_count": 9,
   "id": "a3111b2e",
   "metadata": {},
   "outputs": [],
   "source": [
    "import yaml\n",
    "from box import ConfigBox"
   ]
  },
  {
   "cell_type": "code",
   "execution_count": 10,
   "id": "146577b0",
   "metadata": {},
   "outputs": [],
   "source": [
    "with open(DIR_CONFIG_FILE, \"r\") as f:\n",
    "    result = yaml.safe_load(f)\n",
    "    result = ConfigBox(result)"
   ]
  },
  {
   "cell_type": "code",
   "execution_count": null,
   "id": "a1939cde",
   "metadata": {},
   "outputs": [
    {
     "data": {
      "text/plain": [
       "'style\\\\sidebar_style.css'"
      ]
     },
     "execution_count": 11,
     "metadata": {},
     "output_type": "execute_result"
    }
   ],
   "source": []
  },
  {
   "cell_type": "code",
   "execution_count": null,
   "id": "d0038f05",
   "metadata": {},
   "outputs": [],
   "source": []
  }
 ],
 "metadata": {
  "kernelspec": {
   "display_name": "metervision",
   "language": "python",
   "name": "python3"
  },
  "language_info": {
   "codemirror_mode": {
    "name": "ipython",
    "version": 3
   },
   "file_extension": ".py",
   "mimetype": "text/x-python",
   "name": "python",
   "nbconvert_exporter": "python",
   "pygments_lexer": "ipython3",
   "version": "3.12.10"
  }
 },
 "nbformat": 4,
 "nbformat_minor": 5
}
